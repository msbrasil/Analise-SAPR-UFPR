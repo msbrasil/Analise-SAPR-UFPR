{
 "cells": [
  {
   "cell_type": "markdown",
   "metadata": {},
   "source": [
    "### Escolha uma empresa de sua preferência e estime o seu β (beta), coletando dados sobre o preço mensal de suas ações nos últimos 5 anos e do índice que represente o mercado (S&P 500, Ibovespa etc) de acordo com as características da empresa escolhida.\n",
    "\n",
    "Ação escolhida: **SAPR4 (SANEPAR)**\n",
    "\n",
    "Índice representante: **IBOVESPA**"
   ]
  },
  {
   "cell_type": "code",
   "execution_count": null,
   "metadata": {},
   "outputs": [],
   "source": [
    "#TODO: comparativo com Ambipar, Casan, Copasa, Sabesp e Orizon (AMBP3, CASN4, CSMG3, SBSP3, ORVR3)"
   ]
  },
  {
   "cell_type": "code",
   "execution_count": 1,
   "metadata": {},
   "outputs": [],
   "source": [
    "import yfinance as yf\n",
    "import pandas as pd\n",
    "\n",
    "start_date = '2019-07-31'\n",
    "end_date = '2023-08-31'\n",
    "\n",
    "sapr4 = yf.Ticker(\"SAPR4.SA\")\n",
    "ibovespa = yf.Ticker(\"^BVSP\")"
   ]
  },
  {
   "cell_type": "code",
   "execution_count": 24,
   "metadata": {},
   "outputs": [
    {
     "data": {
      "text/html": [
       "<div>\n",
       "<style scoped>\n",
       "    .dataframe tbody tr th:only-of-type {\n",
       "        vertical-align: middle;\n",
       "    }\n",
       "\n",
       "    .dataframe tbody tr th {\n",
       "        vertical-align: top;\n",
       "    }\n",
       "\n",
       "    .dataframe thead th {\n",
       "        text-align: right;\n",
       "    }\n",
       "</style>\n",
       "<table border=\"1\" class=\"dataframe\">\n",
       "  <thead>\n",
       "    <tr style=\"text-align: right;\">\n",
       "      <th></th>\n",
       "      <th>SAPR4 Monthly Return</th>\n",
       "      <th>IBOVESPA Monthly Return</th>\n",
       "    </tr>\n",
       "    <tr>\n",
       "      <th>Date</th>\n",
       "      <th></th>\n",
       "      <th></th>\n",
       "    </tr>\n",
       "  </thead>\n",
       "  <tbody>\n",
       "    <tr>\n",
       "      <th>2023-04-30 00:00:00-03:00</th>\n",
       "      <td>0.052341</td>\n",
       "      <td>0.025029</td>\n",
       "    </tr>\n",
       "    <tr>\n",
       "      <th>2023-05-31 00:00:00-03:00</th>\n",
       "      <td>0.060209</td>\n",
       "      <td>0.037374</td>\n",
       "    </tr>\n",
       "    <tr>\n",
       "      <th>2023-06-30 00:00:00-03:00</th>\n",
       "      <td>0.088889</td>\n",
       "      <td>0.090017</td>\n",
       "    </tr>\n",
       "    <tr>\n",
       "      <th>2023-07-31 00:00:00-03:00</th>\n",
       "      <td>-0.003912</td>\n",
       "      <td>0.032654</td>\n",
       "    </tr>\n",
       "    <tr>\n",
       "      <th>2023-08-31 00:00:00-03:00</th>\n",
       "      <td>0.106888</td>\n",
       "      <td>-0.036148</td>\n",
       "    </tr>\n",
       "  </tbody>\n",
       "</table>\n",
       "</div>"
      ],
      "text/plain": [
       "                           SAPR4 Monthly Return  IBOVESPA Monthly Return\n",
       "Date                                                                    \n",
       "2023-04-30 00:00:00-03:00              0.052341                 0.025029\n",
       "2023-05-31 00:00:00-03:00              0.060209                 0.037374\n",
       "2023-06-30 00:00:00-03:00              0.088889                 0.090017\n",
       "2023-07-31 00:00:00-03:00             -0.003912                 0.032654\n",
       "2023-08-31 00:00:00-03:00              0.106888                -0.036148"
      ]
     },
     "execution_count": 24,
     "metadata": {},
     "output_type": "execute_result"
    }
   ],
   "source": [
    "sapr4_data = sapr4.history(start=start_date, end=end_date)\n",
    "ibovespa_data = ibovespa.history(start=start_date, end=end_date)\n",
    "\n",
    "sapr4_monthly_return = sapr4_data['Close'].resample('M').ffill().pct_change()\n",
    "ibovespa_monthly_return = ibovespa_data['Close'].resample('M').ffill().pct_change()\n",
    "\n",
    "monthly_returns_df = pd.DataFrame({\n",
    "    'SAPR4 Monthly Return': sapr4_monthly_return,\n",
    "    'IBOVESPA Monthly Return': ibovespa_monthly_return\n",
    "})\n",
    "\n",
    "monthly_returns_df.drop(monthly_returns_df.index[0], inplace=True)\n",
    "\n",
    "monthly_returns_df.tail()\n"
   ]
  },
  {
   "cell_type": "code",
   "execution_count": 39,
   "metadata": {},
   "outputs": [],
   "source": [
    "ibov_mean = monthly_returns_df['IBOVESPA Monthly Return'].mean()"
   ]
  },
  {
   "cell_type": "code",
   "execution_count": 49,
   "metadata": {},
   "outputs": [
    {
     "name": "stdout",
     "output_type": "stream",
     "text": [
      "                             OLS Regression Results                             \n",
      "================================================================================\n",
      "Dep. Variable:     SAPR4 Monthly Return   R-squared:                       0.431\n",
      "Model:                              OLS   Adj. R-squared:                  0.419\n",
      "Method:                   Least Squares   F-statistic:                     35.57\n",
      "Date:                  Sat, 09 Sep 2023   Prob (F-statistic):           3.05e-07\n",
      "Time:                          17:39:01   Log-Likelihood:                 70.231\n",
      "No. Observations:                    49   AIC:                            -136.5\n",
      "Df Residuals:                        47   BIC:                            -132.7\n",
      "Df Model:                             1                                         \n",
      "Covariance Type:              nonrobust                                         \n",
      "===========================================================================================\n",
      "                              coef    std err          t      P>|t|      [0.025      0.975]\n",
      "-------------------------------------------------------------------------------------------\n",
      "const                       0.0012      0.008      0.142      0.887      -0.016       0.018\n",
      "IBOVESPA Monthly Return     0.6896      0.116      5.964      0.000       0.457       0.922\n",
      "==============================================================================\n",
      "Omnibus:                        0.116   Durbin-Watson:                   1.862\n",
      "Prob(Omnibus):                  0.944   Jarque-Bera (JB):                0.251\n",
      "Skew:                           0.102   Prob(JB):                        0.882\n",
      "Kurtosis:                       2.715   Cond. No.                         13.7\n",
      "==============================================================================\n",
      "\n",
      "Notes:\n",
      "[1] Standard Errors assume that the covariance matrix of the errors is correctly specified.\n"
     ]
    }
   ],
   "source": [
    "import statsmodels.api as sm\n",
    "\n",
    "X = monthly_returns_df['IBOVESPA Monthly Return']#.values.reshape(-1, 1)\n",
    "y = monthly_returns_df['SAPR4 Monthly Return']#.values.reshape(-1, 1)\n",
    "\n",
    "X = sm.add_constant(X) # adding a constant\n",
    "model = sm.OLS(y, X).fit()\n",
    "predictions = model.predict(X)\n",
    "print_model = model.summary()\n",
    "\n",
    "print(print_model)"
   ]
  },
  {
   "cell_type": "markdown",
   "metadata": {},
   "source": [
    "O beta estimado para a ação SAPR4 é de 0,68, ou seja, para cada 1% de variação no IBOVESPA, a SAPR4 varia 0,68%."
   ]
  },
  {
   "cell_type": "markdown",
   "metadata": {},
   "source": [
    "### Utilizando o β (beta) encontrado no exercício anterior, calcule o custo de capital próprio (expectativa de retorno) dessa empresa utilizando o modelo Capital Asset Pricing Model (CAPM). Lembre-se de utilizar como taxa livre de risco e prêmio de risco alguma das opções que discutimos na disciplina, que faça sentido para a empresa em questão. (Por exemplo: para uma empresa brasileira, encontrar um valor para a Rf do Brasil e prêmio de risco para o mercado brasileiro.)\n",
    "\n",
    "Opção escolhida como livre de risco: **Tesouro Prefixado 2029 (11,06% a.a)**\n",
    "\n",
    "Risk Free Rate mensal: **0,87%**\n",
    "\n",
    "Opção escolhida como livre de risco: **Tesouro Prefixado 2023 (6,85% a.a)**\n",
    "\n",
    "Risk Free Rate mensal: **0,55%**"
   ]
  },
  {
   "cell_type": "code",
   "execution_count": 43,
   "metadata": {},
   "outputs": [
    {
     "data": {
      "text/plain": [
       "0.005536586873271299"
      ]
     },
     "execution_count": 43,
     "metadata": {},
     "output_type": "execute_result"
    }
   ],
   "source": [
    "Rf = 1.0685**(1/12) - 1\n",
    "Rf"
   ]
  },
  {
   "cell_type": "code",
   "execution_count": 47,
   "metadata": {},
   "outputs": [
    {
     "name": "stdout",
     "output_type": "stream",
     "text": [
      "Beta: 0.6896 Risk Free: 0.0055 Market Risk Premium: 0.0003\n",
      "\n",
      "CAPM: 0.005718965599621765\n"
     ]
    }
   ],
   "source": [
    "beta = model.params.values[1]  # Beta SAPR4\n",
    "Rm = ibov_mean - Rf  # Market Risk Premium\n",
    "\n",
    "# Calculando o CAPM\n",
    "capm = Rf + beta * Rm\n",
    "\n",
    "print(f\"Beta: {beta:.4f} Risk Free: {Rf:.4f} Market Risk Premium: {Rm:.4f}\\n\")\n",
    "\n",
    "print(\"CAPM:\", capm)"
   ]
  },
  {
   "cell_type": "markdown",
   "metadata": {},
   "source": [
    "### Encontre o α de Jensen (alpha de Jensen) para a empresa escolhida. Como você avalia a performance dos gestores dessa empresa? Você compraria ações dessa empresa hoje? Justifique sua resposta."
   ]
  },
  {
   "cell_type": "code",
   "execution_count": 50,
   "metadata": {},
   "outputs": [],
   "source": [
    "sapr_mean = monthly_returns_df['SAPR4 Monthly Return'].mean()"
   ]
  },
  {
   "cell_type": "code",
   "execution_count": 51,
   "metadata": {},
   "outputs": [
    {
     "name": "stdout",
     "output_type": "stream",
     "text": [
      "O Alpha de Jensen é: 0.003300828913826323\n"
     ]
    }
   ],
   "source": [
    "# Cálculo do Alpha de Jensen\n",
    "alpha = sapr_mean - (Rf + beta * (Rm - Rf))\n",
    "\n",
    "print(\"O Alpha de Jensen é:\", alpha)"
   ]
  },
  {
   "cell_type": "markdown",
   "metadata": {},
   "source": [
    "Alpha positivo: Indica que o fundo superou as expectativas em relação ao risco assumido, o que sugere um bom desempenho em relação ao mercado."
   ]
  },
  {
   "cell_type": "markdown",
   "metadata": {},
   "source": [
    "### Qual porcentagem de risco dessa empresa pode ser reduzida através de uma carteira de investimentos diversificada?"
   ]
  },
  {
   "cell_type": "code",
   "execution_count": null,
   "metadata": {},
   "outputs": [],
   "source": []
  },
  {
   "cell_type": "markdown",
   "metadata": {},
   "source": [
    "### Considere 2 cenários: a) aumento dos preços do petróleo; b) uma nova pandemia. Como esses dois eventos poderiam afetar o β (beta) dessa empresa?"
   ]
  }
 ],
 "metadata": {
  "kernelspec": {
   "display_name": "finco",
   "language": "python",
   "name": "python3"
  },
  "language_info": {
   "codemirror_mode": {
    "name": "ipython",
    "version": 3
   },
   "file_extension": ".py",
   "mimetype": "text/x-python",
   "name": "python",
   "nbconvert_exporter": "python",
   "pygments_lexer": "ipython3",
   "version": "3.11.4"
  },
  "orig_nbformat": 4
 },
 "nbformat": 4,
 "nbformat_minor": 2
}
